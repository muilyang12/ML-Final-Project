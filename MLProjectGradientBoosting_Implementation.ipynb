{
  "nbformat": 4,
  "nbformat_minor": 0,
  "metadata": {
    "colab": {
      "provenance": []
    },
    "kernelspec": {
      "name": "python3",
      "display_name": "Python 3"
    },
    "language_info": {
      "name": "python"
    }
  },
  "cells": [
    {
      "cell_type": "code",
      "execution_count": 18,
      "metadata": {
        "id": "nk22hmdwhE9e"
      },
      "outputs": [],
      "source": [
        "import numpy as np\n",
        "from torchvision import datasets, transforms\n",
        "from sklearn.metrics import accuracy_score"
      ]
    },
    {
      "cell_type": "code",
      "source": [
        "class DecisionTreeRegressor:\n",
        "    class Node:\n",
        "        def __init__(\n",
        "            self, left=None, right=None, feature=None, threshold=None, value=None\n",
        "        ):\n",
        "            self.left = left\n",
        "            self.right = right\n",
        "            self.value = value\n",
        "            self.feature = feature\n",
        "            self.threshold = threshold\n",
        "\n",
        "        def isLeaf(self):\n",
        "            return self.left is None and self.right is None\n",
        "\n",
        "    def __init__(self, maxDepth: int = 5):\n",
        "        self.maxDepth = maxDepth\n",
        "        self.tree = None\n",
        "\n",
        "    def fit(self, XTrain, yTrain):\n",
        "        self.tree = self._buildTree(XTrain, yTrain)\n",
        "\n",
        "    def _buildTree(self, XTrain, yTrain, depth=0):\n",
        "        if len(yTrain) == 0:\n",
        "            return None\n",
        "\n",
        "        # If max depth reached or no variance, return leaf\n",
        "        if depth >= self.maxDepth or self._getVariance(yTrain) == 0:\n",
        "            leafValue = self._getLeafValue(yTrain)\n",
        "            return self.Node(value=leafValue)\n",
        "\n",
        "        feature, threshold = self._findBestSplit(XTrain, yTrain)\n",
        "\n",
        "        # If no split improves variance, return leaf\n",
        "        if feature is None or threshold is None:\n",
        "            leafValue = self._getLeafValue(yTrain)\n",
        "            return self.Node(value=leafValue)\n",
        "\n",
        "        leftIndices, rightIndices = self._splitArray(XTrain[:, feature], threshold)\n",
        "\n",
        "        leftXTrain, rightXTrain = XTrain[leftIndices], XTrain[rightIndices]\n",
        "        leftYTrain, rightYTrain = yTrain[leftIndices], yTrain[rightIndices]\n",
        "\n",
        "        left = self._buildTree(leftXTrain, leftYTrain, depth + 1)\n",
        "        right = self._buildTree(rightXTrain, rightYTrain, depth + 1)\n",
        "\n",
        "        return self.Node(\n",
        "            left=left,\n",
        "            right=right,\n",
        "            feature=feature,\n",
        "            threshold=threshold,\n",
        "        )\n",
        "\n",
        "    def _findBestSplit(self, XTrain, yTrain):\n",
        "        bestVarianceReduction = -np.inf\n",
        "        bestFeature = None\n",
        "        bestThreshold = None\n",
        "\n",
        "        if XTrain.shape[1] == 0:\n",
        "            return None, None\n",
        "\n",
        "        _, numFeatures = XTrain.shape\n",
        "        for feature in range(numFeatures):\n",
        "            possibleThresholds = np.unique(XTrain[:, feature])\n",
        "            for threshold in possibleThresholds:\n",
        "                leftIndices, rightIndices = self._splitArray(\n",
        "                    XTrain[:, feature], threshold\n",
        "                )\n",
        "\n",
        "                if len(leftIndices) == 0 or len(rightIndices) == 0:\n",
        "                    continue\n",
        "\n",
        "                leftY, rightY = yTrain[leftIndices], yTrain[rightIndices]\n",
        "                currentVarianceReduction = self._getVarianceReduction(\n",
        "                    yTrain, leftY, rightY\n",
        "                )\n",
        "\n",
        "                if currentVarianceReduction > bestVarianceReduction:\n",
        "                    bestVarianceReduction = currentVarianceReduction\n",
        "                    bestFeature = feature\n",
        "                    bestThreshold = threshold\n",
        "\n",
        "        return bestFeature, bestThreshold\n",
        "\n",
        "    def _splitArray(self, array, threshold):\n",
        "        leftIndices = np.where(array <= threshold)[0]\n",
        "        rightIndices = np.where(array > threshold)[0]\n",
        "\n",
        "        return leftIndices, rightIndices\n",
        "\n",
        "    def _getVarianceReduction(self, y, leftY, rightY):\n",
        "        if len(y) == 0:\n",
        "            return 0\n",
        "\n",
        "        varParent = self._getVariance(y)\n",
        "        varLeft = self._getVariance(leftY)\n",
        "        varRight = self._getVariance(rightY)\n",
        "\n",
        "        weightLeft = len(leftY) / len(y)\n",
        "        weightRight = len(rightY) / len(y)\n",
        "\n",
        "        return varParent - weightLeft * varLeft - weightRight * varRight\n",
        "\n",
        "    def _getVariance(self, y):\n",
        "        if len(y) == 0:\n",
        "            return 0\n",
        "\n",
        "        return np.var(y)\n",
        "\n",
        "    def _getLeafValue(self, y):\n",
        "        return np.mean(y)\n",
        "\n",
        "    def predict(self, XTest):\n",
        "        return np.array([self._predict(sample, self.tree) for sample in XTest])\n",
        "\n",
        "    def _predict(self, XSample, node):\n",
        "        if node.isLeaf():\n",
        "            return node.value\n",
        "\n",
        "        if XSample[node.feature] <= node.threshold:\n",
        "            return self._predict(XSample, node.left)\n",
        "        else:\n",
        "            return self._predict(XSample, node.right)"
      ],
      "metadata": {
        "id": "Na4LCqJVhMvc"
      },
      "execution_count": 19,
      "outputs": []
    },
    {
      "cell_type": "code",
      "source": [
        "class GradientBoostingClassifier:\n",
        "    def __init__(self, nEstimators=100, learningRate=0.1, maxDepth=3):\n",
        "        self.nEstimators = nEstimators\n",
        "        self.learningRate = learningRate\n",
        "        self.maxDepth = maxDepth\n",
        "\n",
        "        self.numClasses = None\n",
        "        self.trees = []\n",
        "        self.initialPrediction = None\n",
        "\n",
        "    def fit(self, XTrain, yTrain):\n",
        "        numSamples = XTrain.shape[0]\n",
        "\n",
        "        self.numClasses = np.max(yTrain) + 1\n",
        "        self.trees = [[] for _ in range(self.numClasses)]\n",
        "        self.initialPrediction = np.zeros((numSamples, self.numClasses))\n",
        "\n",
        "        # Initialize Logits with initialPrediction\n",
        "        currentLogits = self.initialPrediction.copy()\n",
        "\n",
        "        yOneHotEncoded = np.eye(self.numClasses)[yTrain]\n",
        "\n",
        "        for _ in range(self.nEstimators):\n",
        "            # Compute probabilities\n",
        "            probabilities = self._softmax(currentLogits)\n",
        "\n",
        "            for currentClass in range(self.numClasses):\n",
        "                residuals = (\n",
        "                    yOneHotEncoded[:, currentClass] - probabilities[:, currentClass]\n",
        "                )\n",
        "\n",
        "                tree = DecisionTreeRegressor(maxDepth=self.maxDepth)\n",
        "                tree.fit(XTrain, residuals)\n",
        "                self.trees[currentClass].append(tree)\n",
        "\n",
        "                currentLogits[:, currentClass] += self.learningRate * tree.predict(\n",
        "                    XTrain\n",
        "                )\n",
        "\n",
        "    def predict(self, X):\n",
        "        probabilities = self.predictProbabilities(X)\n",
        "\n",
        "        return np.argmax(probabilities, axis=1)\n",
        "\n",
        "    def predictProbabilities(self, X):\n",
        "        numSamples = X.shape[0]\n",
        "\n",
        "        logits = np.zeros((numSamples, self.numClasses))\n",
        "        for currentClass in range(self.numClasses):\n",
        "            for tree in self.trees[currentClass]:\n",
        "                logits[:, currentClass] += self.learningRate * tree.predict(X)\n",
        "\n",
        "        return self._softmax(logits)\n",
        "\n",
        "    def _softmax(self, logits):\n",
        "        expLogits = np.exp(logits - np.max(logits, axis=1, keepdims=True))\n",
        "\n",
        "        return expLogits / np.sum(expLogits, axis=1, keepdims=True)\n"
      ],
      "metadata": {
        "id": "etPUuBjOh3iL"
      },
      "execution_count": 20,
      "outputs": []
    },
    {
      "cell_type": "code",
      "source": [
        "transform = transforms.Compose([transforms.ToTensor()])\n",
        "train_data = datasets.FashionMNIST(root='./data', train=True, download=True, transform=transform)\n",
        "test_data = datasets.FashionMNIST(root='./data', train=False, download=True, transform=transform)\n",
        "\n",
        "train_indices = np.random.choice(len(train_data), size=500, replace=False)\n",
        "test_indices = np.random.choice(len(test_data), size=100, replace=False)\n",
        "\n",
        "X_train = train_data.data[train_indices].numpy()\n",
        "X_train = X_train.reshape(X_train.shape[0], -1)\n",
        "y_train = train_data.targets[train_indices].numpy()\n",
        "\n",
        "X_test = test_data.data[test_indices].numpy()\n",
        "X_test = X_test.reshape(X_test.shape[0], -1)\n",
        "y_test = test_data.targets[test_indices].numpy()"
      ],
      "metadata": {
        "collapsed": true,
        "id": "33hSKp92ii8s"
      },
      "execution_count": 21,
      "outputs": []
    },
    {
      "cell_type": "code",
      "source": [
        "gb_model = GradientBoostingClassifier(nEstimators=10, maxDepth=2, learningRate=0.1)\n",
        "\n",
        "gb_model.fit(X_train, y_train)\n",
        "gb_predictions = gb_model.predict(X_test)\n",
        "\n",
        "gb_accuracy = accuracy_score(y_test, gb_predictions)\n",
        "print(f\"Custom Gradient Boosting Accuracy: {gb_accuracy:.3f}\")"
      ],
      "metadata": {
        "colab": {
          "base_uri": "https://localhost:8080/"
        },
        "id": "bqN-w8QsilAi",
        "outputId": "d886cf6a-f489-40d2-832a-11a8fd5749f4"
      },
      "execution_count": 22,
      "outputs": [
        {
          "output_type": "stream",
          "name": "stdout",
          "text": [
            "Custom Gradient Boosting Accuracy: 0.590\n"
          ]
        }
      ]
    },
    {
      "cell_type": "code",
      "source": [
        "from sklearn.metrics import confusion_matrix, precision_score, recall_score, f1_score\n",
        "import seaborn as sns\n",
        "import matplotlib.pyplot as plt\n",
        "\n",
        "cm = confusion_matrix(y_test, gb_predictions)\n",
        "sns.heatmap(cm, annot=True, fmt='d', cmap='Blues', vmin=0, vmax=10)\n",
        "\n",
        "plt.title('Confusion Matrix with Implementation')\n",
        "plt.xlabel('Predicted')\n",
        "plt.ylabel('True')\n",
        "plt.show()\n",
        "\n",
        "precision_weighted = precision_score(y_test, gb_predictions, average='weighted')\n",
        "recall_weighted = recall_score(y_test, gb_predictions, average='weighted')\n",
        "f1_weighted = f1_score(y_test, gb_predictions, average='weighted')\n",
        "\n",
        "print(f\"Precision (Weighted): {precision_weighted:.3f}\")\n",
        "print(f\"Recall (Weighted): {recall_weighted:.3f}\")\n",
        "print(f\"F1-Score (Weighted): {f1_weighted:.3f}\")\n"
      ],
      "metadata": {
        "colab": {
          "base_uri": "https://localhost:8080/",
          "height": 524
        },
        "id": "_bi_M_G3in4t",
        "outputId": "1c5297ec-bd83-44ba-8355-bbbe4f1f326f"
      },
      "execution_count": 24,
      "outputs": [
        {
          "output_type": "display_data",
          "data": {
            "text/plain": [
              "<Figure size 640x480 with 2 Axes>"
            ],
            "image/png": "[encoded data removed]"
          },
          "metadata": {}
        },
        {
          "output_type": "stream",
          "name": "stdout",
          "text": [
            "Precision (Weighted): 0.624\n",
            "Recall (Weighted): 0.590\n",
            "F1-Score (Weighted): 0.596\n"
          ]
        }
      ]
    }
  ]
}