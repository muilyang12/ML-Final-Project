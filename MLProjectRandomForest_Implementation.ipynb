{
 "cells": [
  {
   "cell_type": "code",
   "execution_count": 1,
   "metadata": {
    "id": "tND-J4r3Wuz1"
   },
   "outputs": [],
   "source": [
    "from typing import Optional\n",
    "\n",
    "import numpy as np\n",
    "from torchvision import datasets, transforms\n",
    "from sklearn.preprocessing import StandardScaler\n",
    "from sklearn.metrics import accuracy_score"
   ]
  },
  {
   "cell_type": "code",
   "execution_count": 2,
   "metadata": {
    "id": "KrDjRBrQa5_e"
   },
   "outputs": [],
   "source": [
    "class DecisionTree:\n",
    "    class Node:\n",
    "        def __init__(\n",
    "            self, left=None, right=None, feature=None, threshold=None, value=None\n",
    "        ):\n",
    "            self.left = left\n",
    "            self.right = right\n",
    "            self.value = value\n",
    "            self.feature = feature\n",
    "            self.threshold = threshold\n",
    "\n",
    "        def isLeaf(self):\n",
    "            return self.left is None and self.right is None\n",
    "\n",
    "    def __init__(self, maxDepth: int = 5):\n",
    "        self.maxDepth = maxDepth\n",
    "        self.tree = None\n",
    "\n",
    "    def fit(self, XTrain, yTrain):\n",
    "        self.tree = self._buildTree(XTrain, yTrain)\n",
    "\n",
    "    def _buildTree(self, XTrain, yTrain, depth=0):\n",
    "        if len(yTrain) == 0:\n",
    "            return None\n",
    "\n",
    "        # If only one class or max depth reached, return leaf\n",
    "        numLabels = len(np.unique(yTrain))\n",
    "        if depth >= self.maxDepth or numLabels == 1:\n",
    "            leafValue = self._getLeafValue(yTrain)\n",
    "            return self.Node(value=leafValue)\n",
    "\n",
    "        feature, threshold = self._findBestSplit(XTrain, yTrain)\n",
    "\n",
    "        # If no best split found (no info gain), return leaf\n",
    "        if feature is None or threshold is None:\n",
    "            leafValue = self._getLeafValue(yTrain)\n",
    "\n",
    "            return self.Node(value=leafValue)\n",
    "\n",
    "        leftIndices, rightIndices = self._splitArray(XTrain[:, feature], threshold)\n",
    "\n",
    "        leftXTrain, rightXTrain = XTrain[leftIndices], XTrain[rightIndices]\n",
    "        leftYTrain, rightYTrain = yTrain[leftIndices], yTrain[rightIndices]\n",
    "\n",
    "        left = self._buildTree(leftXTrain, leftYTrain, depth + 1)\n",
    "        right = self._buildTree(rightXTrain, rightYTrain, depth + 1)\n",
    "\n",
    "        return self.Node(\n",
    "            left=left,\n",
    "            right=right,\n",
    "            feature=feature,\n",
    "            threshold=threshold,\n",
    "        )\n",
    "\n",
    "    def _findBestSplit(self, XTrain, yTrain):\n",
    "        bestInfoGain = -1\n",
    "        bestFeature = None\n",
    "        bestThreshold = None\n",
    "\n",
    "        if XTrain.shape[1] == 0:\n",
    "            return None, None\n",
    "\n",
    "        # Iterate over each feature\n",
    "        _, numFeatures = XTrain.shape\n",
    "        for feature in range(numFeatures):\n",
    "            possibleThresholds = np.unique(XTrain[:, feature])\n",
    "            for threshold in possibleThresholds:\n",
    "                leftIndices, rightIndices = self._splitArray(\n",
    "                    XTrain[:, feature], threshold\n",
    "                )\n",
    "\n",
    "                if len(leftIndices) == 0 or len(rightIndices) == 0:\n",
    "                    continue\n",
    "\n",
    "                leftY, rightY = yTrain[leftIndices], yTrain[rightIndices]\n",
    "                currentInfoGain = self._getInformationGain(yTrain, leftY, rightY)\n",
    "\n",
    "                if currentInfoGain > bestInfoGain:\n",
    "                    bestInfoGain = currentInfoGain\n",
    "                    bestFeature = feature\n",
    "                    bestThreshold = threshold\n",
    "\n",
    "        return bestFeature, bestThreshold\n",
    "\n",
    "    def _splitArray(self, array, threshold):\n",
    "        leftIndices = np.where(array <= threshold)\n",
    "        rightIndices = np.where(array > threshold)\n",
    "\n",
    "        return leftIndices[0], rightIndices[0]\n",
    "\n",
    "    def _getInformationGain(self, y, leftY, rightY):\n",
    "        if len(y) == 0:\n",
    "            return 0\n",
    "\n",
    "        leftYRatio = len(leftY) / len(y)\n",
    "\n",
    "        prev = self._getEntropy(y)\n",
    "        new = leftYRatio * self._getEntropy(leftY) + (\n",
    "            1 - leftYRatio\n",
    "        ) * self._getEntropy(rightY)\n",
    "\n",
    "        return prev - new\n",
    "\n",
    "    def _getEntropy(self, y):\n",
    "        if len(y) == 0:\n",
    "            return 0\n",
    "        counts = np.bincount(y)\n",
    "        ps = counts / len(y)\n",
    "        return -np.sum([p * np.log2(p) for p in ps if p > 0])\n",
    "\n",
    "    def _getLeafValue(self, y):\n",
    "        counts = np.bincount(y)\n",
    "\n",
    "        return np.argmax(counts)\n",
    "\n",
    "    def predict(self, XTest):\n",
    "        return [self._predict(XSample, self.tree) for XSample in XTest]\n",
    "\n",
    "    def _predict(self, XSample, node):\n",
    "        if node.isLeaf():\n",
    "            return node.value\n",
    "\n",
    "        if XSample[node.feature] <= node.threshold:\n",
    "            return self._predict(XSample, node.left)\n",
    "        else:\n",
    "            return self._predict(XSample, node.right)"
   ]
  },
  {
   "cell_type": "code",
   "execution_count": 3,
   "metadata": {
    "id": "OIjISXfnbAdq"
   },
   "outputs": [],
   "source": [
    "class RandomForest:\n",
    "    def __init__(\n",
    "        self,\n",
    "        nEstimators: int = 10,\n",
    "        maxDepth: int = 5,\n",
    "        maxFeatures: Optional[int] = None,\n",
    "        randomState: Optional[int] = 42,\n",
    "    ):\n",
    "        self.nEstimators = nEstimators\n",
    "        self.maxDepth = maxDepth\n",
    "        self.maxFeatures = maxFeatures\n",
    "\n",
    "        np.random.seed(randomState)\n",
    "\n",
    "        self.trees = []  # List to store individual DecisionTree.\n",
    "        self.featureIndices = []  # List to store the feature indices used by each tree\n",
    "\n",
    "    def fit(self, XTrain, yTrain):\n",
    "        numSamples, numFeatures = XTrain.shape\n",
    "        if self.maxFeatures is None:\n",
    "            self.maxFeatures = int(np.sqrt(numFeatures))\n",
    "\n",
    "        for _ in range(self.nEstimators):\n",
    "            # Bootstrap Sampling\n",
    "            bootstrapIndices = np.random.choice(\n",
    "                numSamples, size=numSamples, replace=True\n",
    "            )\n",
    "            XBootstrap = XTrain[bootstrapIndices]\n",
    "            yBootstrap = yTrain[bootstrapIndices]\n",
    "\n",
    "            # Feature Subsetting\n",
    "            featureIndices = np.random.choice(\n",
    "                numFeatures, self.maxFeatures, replace=False\n",
    "            )\n",
    "            XSub = XBootstrap[:, featureIndices]\n",
    "\n",
    "            tree = DecisionTree(maxDepth=self.maxDepth)\n",
    "            tree.fit(XSub, yBootstrap)\n",
    "\n",
    "            self.trees.append(tree)\n",
    "            self.featureIndices.append(featureIndices)\n",
    "\n",
    "    def predict(self, X):\n",
    "        # Prediction Collect\n",
    "        predictions = []\n",
    "        for tree, featureIndices in zip(self.trees, self.featureIndices):\n",
    "            XSub = X[:, featureIndices]\n",
    "            prediction = tree.predict(XSub)\n",
    "            predictions.append(prediction)\n",
    "\n",
    "        # Transpose Predictions for easy Majority Voting\n",
    "        predictions = np.array(predictions).T\n",
    "\n",
    "        # Majority Voting\n",
    "        predictionResult = []\n",
    "        for row in predictions:\n",
    "            vals, counts = np.unique(row, return_counts=True)\n",
    "            predictionResult.append(vals[np.argmax(counts)])\n",
    "\n",
    "        return predictionResult"
   ]
  },
  {
   "cell_type": "code",
   "execution_count": 4,
   "metadata": {
    "colab": {
     "base_uri": "https://localhost:8080/"
    },
    "collapsed": true,
    "id": "eo47EOB6bRW8",
    "outputId": "a2a04b5d-c0b0-4a93-e0bb-eddb087b5cfe"
   },
   "outputs": [
    {
     "name": "stdout",
     "output_type": "stream",
     "text": [
      "Downloading http://fashion-mnist.s3-website.eu-central-1.amazonaws.com/train-images-idx3-ubyte.gz\n",
      "Downloading http://fashion-mnist.s3-website.eu-central-1.amazonaws.com/train-images-idx3-ubyte.gz to ./data/FashionMNIST/raw/train-images-idx3-ubyte.gz\n"
     ]
    },
    {
     "name": "stderr",
     "output_type": "stream",
     "text": [
      "100%|██████████| 26.4M/26.4M [00:01<00:00, 13.5MB/s]\n"
     ]
    },
    {
     "name": "stdout",
     "output_type": "stream",
     "text": [
      "Extracting ./data/FashionMNIST/raw/train-images-idx3-ubyte.gz to ./data/FashionMNIST/raw\n",
      "\n",
      "Downloading http://fashion-mnist.s3-website.eu-central-1.amazonaws.com/train-labels-idx1-ubyte.gz\n",
      "Downloading http://fashion-mnist.s3-website.eu-central-1.amazonaws.com/train-labels-idx1-ubyte.gz to ./data/FashionMNIST/raw/train-labels-idx1-ubyte.gz\n"
     ]
    },
    {
     "name": "stderr",
     "output_type": "stream",
     "text": [
      "100%|██████████| 29.5k/29.5k [00:00<00:00, 228kB/s]\n"
     ]
    },
    {
     "name": "stdout",
     "output_type": "stream",
     "text": [
      "Extracting ./data/FashionMNIST/raw/train-labels-idx1-ubyte.gz to ./data/FashionMNIST/raw\n",
      "\n",
      "Downloading http://fashion-mnist.s3-website.eu-central-1.amazonaws.com/t10k-images-idx3-ubyte.gz\n",
      "Downloading http://fashion-mnist.s3-website.eu-central-1.amazonaws.com/t10k-images-idx3-ubyte.gz to ./data/FashionMNIST/raw/t10k-images-idx3-ubyte.gz\n"
     ]
    },
    {
     "name": "stderr",
     "output_type": "stream",
     "text": [
      "100%|██████████| 4.42M/4.42M [00:01<00:00, 4.23MB/s]\n"
     ]
    },
    {
     "name": "stdout",
     "output_type": "stream",
     "text": [
      "Extracting ./data/FashionMNIST/raw/t10k-images-idx3-ubyte.gz to ./data/FashionMNIST/raw\n",
      "\n",
      "Downloading http://fashion-mnist.s3-website.eu-central-1.amazonaws.com/t10k-labels-idx1-ubyte.gz\n",
      "Downloading http://fashion-mnist.s3-website.eu-central-1.amazonaws.com/t10k-labels-idx1-ubyte.gz to ./data/FashionMNIST/raw/t10k-labels-idx1-ubyte.gz\n"
     ]
    },
    {
     "name": "stderr",
     "output_type": "stream",
     "text": [
      "100%|██████████| 5.15k/5.15k [00:00<00:00, 19.7MB/s]\n"
     ]
    },
    {
     "name": "stdout",
     "output_type": "stream",
     "text": [
      "Extracting ./data/FashionMNIST/raw/t10k-labels-idx1-ubyte.gz to ./data/FashionMNIST/raw\n",
      "\n"
     ]
    }
   ],
   "source": [
    "transform = transforms.Compose([transforms.ToTensor()])\n",
    "train_data = datasets.FashionMNIST(root='./data', train=True, download=True, transform=transform)\n",
    "test_data = datasets.FashionMNIST(root='./data', train=False, download=True, transform=transform)\n",
    "\n",
    "train_indices = np.random.choice(len(train_data), size=10000, replace=False)\n",
    "test_indices = np.random.choice(len(test_data), size=2000, replace=False)\n",
    "\n",
    "X_train = train_data.data[train_indices].numpy()\n",
    "X_train = X_train.reshape(X_train.shape[0], -1)\n",
    "y_train = train_data.targets[train_indices].numpy()\n",
    "\n",
    "X_test = test_data.data[test_indices].numpy()\n",
    "X_test = X_test.reshape(X_test.shape[0], -1)\n",
    "y_test = test_data.targets[test_indices].numpy()\n",
    "\n",
    "scaler = StandardScaler()\n",
    "X_train = scaler.fit_transform(X_train)\n",
    "X_test = scaler.transform(X_test)"
   ]
  },
  {
   "cell_type": "code",
   "execution_count": 6,
   "metadata": {
    "colab": {
     "base_uri": "https://localhost:8080/"
    },
    "id": "0dCzcd0dbBW9",
    "outputId": "098b4e44-76c8-4638-e470-4958045d41e0"
   },
   "outputs": [
    {
     "name": "stdout",
     "output_type": "stream",
     "text": [
      "Custom Random Forest Accuracy: 0.795\n"
     ]
    }
   ],
   "source": [
    "rf_model = RandomForest(nEstimators=20, maxDepth=7)\n",
    "\n",
    "rf_model.fit(X_train, y_train)\n",
    "rf_predictions = rf_model.predict(X_test)\n",
    "\n",
    "rf_accuracy = accuracy_score(y_test, rf_predictions)\n",
    "print(f\"Custom Random Forest Accuracy: {rf_accuracy:.3f}\")"
   ]
  },
  {
   "cell_type": "code",
   "execution_count": 9,
   "metadata": {
    "colab": {
     "base_uri": "https://localhost:8080/",
     "height": 524
    },
    "id": "M477XUhi3I7n",
    "outputId": "b1f2e90b-d2f2-4c17-b010-49fa10900ab6"
   },
   "outputs": [
    {
     "data": {
      "image/png": "[encoded data removed]",
      "text/plain": [
       "<Figure size 640x480 with 2 Axes>"
      ]
     },
     "metadata": {},
     "output_type": "display_data"
    },
    {
     "name": "stdout",
     "output_type": "stream",
     "text": [
      "Precision (Weighted): 0.799\n",
      "Recall (Weighted): 0.795\n",
      "F1-Score (Weighted): 0.786\n"
     ]
    }
   ],
   "source": [
    "from sklearn.metrics import confusion_matrix, precision_score, recall_score, f1_score\n",
    "import seaborn as sns\n",
    "import matplotlib.pyplot as plt\n",
    "\n",
    "cm = confusion_matrix(y_test, rf_predictions)\n",
    "sns.heatmap(cm, annot=True, fmt='d', cmap='Blues', vmin=5, vmax=35)\n",
    "\n",
    "plt.title('Confusion Matrix with Implementation')\n",
    "plt.xlabel('Predicted')\n",
    "plt.ylabel('True')\n",
    "plt.show()\n",
    "\n",
    "precision_weighted = precision_score(y_test, rf_predictions, average='weighted')\n",
    "recall_weighted = recall_score(y_test, rf_predictions, average='weighted')\n",
    "f1_weighted = f1_score(y_test, rf_predictions, average='weighted')\n",
    "\n",
    "print(f\"Precision (Weighted): {precision_weighted:.3f}\")\n",
    "print(f\"Recall (Weighted): {recall_weighted:.3f}\")\n",
    "print(f\"F1-Score (Weighted): {f1_weighted:.3f}\")\n"
   ]
  }
 ],
 "metadata": {
  "colab": {
   "provenance": []
  },
  "kernelspec": {
   "display_name": "Python 3",
   "name": "python3"
  },
  "language_info": {
   "name": "python"
  }
 },
 "nbformat": 4,
 "nbformat_minor": 0
}
